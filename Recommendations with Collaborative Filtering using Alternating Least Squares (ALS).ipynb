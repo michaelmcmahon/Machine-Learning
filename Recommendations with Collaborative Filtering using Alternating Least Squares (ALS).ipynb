{
 "cells": [
  {
   "attachments": {},
   "cell_type": "markdown",
   "metadata": {},
   "source": [
    "RECOMMENDATION PROBLEMS\n",
    "Types\n",
    "\t- Collaborative Filtering (Alternating Least Squares OR Nearest Neighbour) \n",
    "\t- Association Rules\n",
    "\t- Content Based Filtering \n",
    "\n",
    "\t1. Compute the ratings for all movies for all users\n",
    "\t2. Sort on descending order based on ratings\n",
    "\t3. Pick the top 10 user hasn't watched\n",
    "\n",
    "Collaborative Filtering Algorithms - predict user rating based on user previous behaviour\n",
    "Purchases/Browsing/Clicks/Reviews -> Collaborative Filtering -> Top Picks/Like This/Recommendation\n",
    "Basically if two users like a bunch of products they will also like other products\n",
    "Training Data -> User_ID | Product_ID | Rating (Explicit/Implicit)\n"
   ]
  },
  {
   "attachments": {},
   "cell_type": "markdown",
   "metadata": {},
   "source": [
    "RECOMMENDATIONS WITH COLLABORATIVE FILTERING (USING ALTERNATING LEAST SQUARES (ALS) )\n",
    "(SUPERVISED)\n",
    "Implicit -> alternating_least_squares\n",
    "\n",
    "Latent Filter Analysis -> hidden influence analysis (Genre/Cast/Success/Recent)\n",
    "Rate every user on these preference / Rate every movie on scale of 1-5 for these factors\n",
    "So every user and every movie is now represented by 4 numbers in 4-D space\n",
    " User_ID | Product_ID | Rating -> Latent Filter Analysis -> User quantified by some factors | Products quantified by some factors\n",
    "The Factors are not known beforehand\n",
    "Represent the training data as a matrix of Rating R = User x Product -> User Factor Matrix P * Product Factor Matrix Q -> R43 = P4 * Q3\n",
    "\n",
    "We just have ratings for the items the user has actually reviewed\n",
    "When we decompose the matrix we can compute rating for any product\n",
    "The problem is expressed as finding the set of product vectors (P, Q) such that the total error is minimized against the Training Data \n",
    "\n",
    "Alternating Least Squares (ALS) -> is an Optimization technique for minimizing this error\n",
    "Rui = Actual Rating for a particular user for a particular item\n",
    "Qi = Item Factor Vector\n",
    "Pu = Product Factor Vector\n",
    "Alternating Least Square is a quadratic equation alternating between solving Pu and Qi until the values no longer change\n",
    "The number of hidden factors can be chosen by the user \n",
    "\n",
    "Add a regularization term to penalize models for higher number of factors\n",
    "The regularization term has a Lamda parameter which user can change\n"
   ]
  },
  {
   "cell_type": "code",
   "execution_count": 1,
   "metadata": {},
   "outputs": [],
   "source": [
    "import implicit\n",
    "import pandas as pd\n",
    "\n",
    "dataFile='/pluralsight/ml-100k/u.data'\n",
    "data=pd.read_csv(dataFile, sep=\"\\t\", header=None, usecols=[0,1,2], names=['userId', 'itemId', 'rating'])"
   ]
  },
  {
   "cell_type": "code",
   "execution_count": 2,
   "metadata": {},
   "outputs": [
    {
     "data": {
      "text/html": [
       "<div>\n",
       "<style scoped>\n",
       "    .dataframe tbody tr th:only-of-type {\n",
       "        vertical-align: middle;\n",
       "    }\n",
       "\n",
       "    .dataframe tbody tr th {\n",
       "        vertical-align: top;\n",
       "    }\n",
       "\n",
       "    .dataframe thead th {\n",
       "        text-align: right;\n",
       "    }\n",
       "</style>\n",
       "<table border=\"1\" class=\"dataframe\">\n",
       "  <thead>\n",
       "    <tr style=\"text-align: right;\">\n",
       "      <th></th>\n",
       "      <th>userId</th>\n",
       "      <th>itemId</th>\n",
       "      <th>rating</th>\n",
       "    </tr>\n",
       "  </thead>\n",
       "  <tbody>\n",
       "    <tr>\n",
       "      <th>0</th>\n",
       "      <td>196</td>\n",
       "      <td>242</td>\n",
       "      <td>3</td>\n",
       "    </tr>\n",
       "    <tr>\n",
       "      <th>1</th>\n",
       "      <td>186</td>\n",
       "      <td>302</td>\n",
       "      <td>3</td>\n",
       "    </tr>\n",
       "    <tr>\n",
       "      <th>2</th>\n",
       "      <td>22</td>\n",
       "      <td>377</td>\n",
       "      <td>1</td>\n",
       "    </tr>\n",
       "    <tr>\n",
       "      <th>3</th>\n",
       "      <td>244</td>\n",
       "      <td>51</td>\n",
       "      <td>2</td>\n",
       "    </tr>\n",
       "    <tr>\n",
       "      <th>4</th>\n",
       "      <td>166</td>\n",
       "      <td>346</td>\n",
       "      <td>1</td>\n",
       "    </tr>\n",
       "  </tbody>\n",
       "</table>\n",
       "</div>"
      ],
      "text/plain": [
       "   userId  itemId  rating\n",
       "0     196     242       3\n",
       "1     186     302       3\n",
       "2      22     377       1\n",
       "3     244      51       2\n",
       "4     166     346       1"
      ]
     },
     "execution_count": 2,
     "metadata": {},
     "output_type": "execute_result"
    }
   ],
   "source": [
    "data.head()"
   ]
  },
  {
   "cell_type": "code",
   "execution_count": 3,
   "metadata": {},
   "outputs": [],
   "source": [
    "#convert dataframe of three rows into a matrix of User, Product, Rating\n",
    "from scipy.sparse import coo_matrix\n",
    "\n",
    "data['userId'] = data['userId'].astype(\"category\")\n",
    "data['itemId'] = data['itemId'].astype(\"category\")\n",
    "rating_matrix = coo_matrix((data['rating'].astype(float),\n",
    "                           (data['itemId'].cat.codes.copy(),\n",
    "                            data['userId'].cat.codes.copy())))"
   ]
  },
  {
   "cell_type": "code",
   "execution_count": 5,
   "metadata": {},
   "outputs": [
    {
     "name": "stderr",
     "output_type": "stream",
     "text": [
      "This method is deprecated. Please use the AlternatingLeastSquares class instead\n",
      "WARNING:root:Intel MKL BLAS detected. Its highly recommend to set the environment variable 'export MKL_NUM_THREADS=1' to disable its internal multithreading\n",
      "100%|████████████████████████████████████████| 15.0/15 [00:00<00:00, 19.12it/s]\n"
     ]
    }
   ],
   "source": [
    "#We call the alternating_least_squares to break down the rating matrix into a user factors and item factors\n",
    "#We need to give alternating_least_squares to parameters - the # of factors and the regularization parameter\n",
    "user_factors, item_factors = implicit.alternating_least_squares(rating_matrix, factors=10, regularization=0.01)"
   ]
  },
  {
   "cell_type": "code",
   "execution_count": 6,
   "metadata": {},
   "outputs": [],
   "source": [
    "# solve all the movie ratings for user 196 \n",
    "user196=item_factors.dot(user_factors[196])"
   ]
  },
  {
   "cell_type": "code",
   "execution_count": 7,
   "metadata": {},
   "outputs": [
    {
     "data": {
      "text/plain": [
       "[17, 89, 473]"
      ]
     },
     "execution_count": 7,
     "metadata": {},
     "output_type": "execute_result"
    }
   ],
   "source": [
    "#sort the list of movie ratings and pick the top three\n",
    "import heapq\n",
    "heapq.nlargest(3, range(len(user196)), user196.take)"
   ]
  },
  {
   "cell_type": "code",
   "execution_count": null,
   "metadata": {},
   "outputs": [],
   "source": []
  }
 ],
 "metadata": {
  "kernelspec": {
   "display_name": "Python 3",
   "language": "python",
   "name": "python3"
  },
  "language_info": {
   "codemirror_mode": {
    "name": "ipython",
    "version": 3
   },
   "file_extension": ".py",
   "mimetype": "text/x-python",
   "name": "python",
   "nbconvert_exporter": "python",
   "pygments_lexer": "ipython3",
   "version": "3.6.5"
  }
 },
 "nbformat": 4,
 "nbformat_minor": 2
}
